{
  "nbformat": 4,
  "nbformat_minor": 0,
  "metadata": {
    "colab": {
      "name": "04_basic_learner.ipynb",
      "provenance": [],
      "collapsed_sections": [],
      "authorship_tag": "ABX9TyOmH+EEgtw56y24D4Ivgp4L",
      "include_colab_link": true
    },
    "kernelspec": {
      "name": "python3",
      "display_name": "Python 3"
    }
  },
  "cells": [
    {
      "cell_type": "markdown",
      "metadata": {
        "id": "view-in-github",
        "colab_type": "text"
      },
      "source": [
        "<a href=\"https://colab.research.google.com/github/andreeas26/my-notes/blob/master/_notebooks/2021-03-02-basic-learner.ipynb\" target=\"_parent\"><img src=\"https://colab.research.google.com/assets/colab-badge.svg\" alt=\"Open In Colab\"/></a>"
      ]
    },
    {
      "cell_type": "markdown",
      "metadata": {
        "id": "50oOJlIY16uT"
      },
      "source": [
        "# \"A basic Learner\"\r\n",
        "- categories: [fastpages, jupyter, learner]\r\n"
      ]
    },
    {
      "cell_type": "markdown",
      "metadata": {
        "id": "qEgUbgHRyuCi"
      },
      "source": [
        "This is my first post on fastpages."
      ]
    },
    {
      "cell_type": "code",
      "metadata": {
        "colab": {
          "base_uri": "https://localhost:8080/"
        },
        "id": "_CtqwKMjEiX-",
        "outputId": "43718907-df63-4ac0-b2e9-0694e5d3966c"
      },
      "source": [
        "#hide\r\n",
        "!pip install -Uqq fastbook\r\n",
        "import fastbook\r\n",
        "fastbook.setup_book()"
      ],
      "execution_count": null,
      "outputs": [
        {
          "output_type": "stream",
          "text": [
            "\u001b[K     |████████████████████████████████| 727kB 10.8MB/s \n",
            "\u001b[K     |████████████████████████████████| 51kB 5.0MB/s \n",
            "\u001b[K     |████████████████████████████████| 194kB 28.1MB/s \n",
            "\u001b[K     |████████████████████████████████| 1.2MB 16.2MB/s \n",
            "\u001b[K     |████████████████████████████████| 61kB 5.0MB/s \n",
            "\u001b[K     |████████████████████████████████| 51kB 3.8MB/s \n",
            "\u001b[?25hMounted at /content/gdrive\n"
          ],
          "name": "stdout"
        }
      ]
    },
    {
      "cell_type": "code",
      "metadata": {
        "id": "0QZjgavZE5rz"
      },
      "source": [
        "#hide\r\n",
        "from fastai.vision.all import *\r\n",
        "from fastbook import *\r\n",
        "import pandas as pd"
      ],
      "execution_count": null,
      "outputs": []
    },
    {
      "cell_type": "code",
      "metadata": {
        "colab": {
          "base_uri": "https://localhost:8080/",
          "height": 33
        },
        "id": "RkbE-FBIFOdD",
        "outputId": "01eb8812-ddd7-4b25-e3a3-b9632da3e469"
      },
      "source": [
        "path = untar_data(URLs.MNIST_SAMPLE)\r\n",
        "path.ls()"
      ],
      "execution_count": null,
      "outputs": [
        {
          "output_type": "display_data",
          "data": {
            "text/html": [
              ""
            ],
            "text/plain": [
              "<IPython.core.display.HTML object>"
            ]
          },
          "metadata": {
            "tags": []
          }
        },
        {
          "output_type": "execute_result",
          "data": {
            "text/plain": [
              "(#3) [Path('/root/.fastai/data/mnist_sample/valid'),Path('/root/.fastai/data/mnist_sample/labels.csv'),Path('/root/.fastai/data/mnist_sample/train')]"
            ]
          },
          "metadata": {
            "tags": []
          },
          "execution_count": 3
        }
      ]
    },
    {
      "cell_type": "code",
      "metadata": {
        "colab": {
          "base_uri": "https://localhost:8080/",
          "height": 137
        },
        "id": "VUZq2qzZGK7r",
        "outputId": "8583863b-3456-4c04-f6d4-5bfd0605bb22"
      },
      "source": [
        "labels_df = pd.read_csv(path/\"labels.csv\")\r\n",
        "labels_df.head(3)"
      ],
      "execution_count": null,
      "outputs": [
        {
          "output_type": "execute_result",
          "data": {
            "text/html": [
              "<div>\n",
              "<style scoped>\n",
              "    .dataframe tbody tr th:only-of-type {\n",
              "        vertical-align: middle;\n",
              "    }\n",
              "\n",
              "    .dataframe tbody tr th {\n",
              "        vertical-align: top;\n",
              "    }\n",
              "\n",
              "    .dataframe thead th {\n",
              "        text-align: right;\n",
              "    }\n",
              "</style>\n",
              "<table border=\"1\" class=\"dataframe\">\n",
              "  <thead>\n",
              "    <tr style=\"text-align: right;\">\n",
              "      <th></th>\n",
              "      <th>name</th>\n",
              "      <th>label</th>\n",
              "    </tr>\n",
              "  </thead>\n",
              "  <tbody>\n",
              "    <tr>\n",
              "      <th>0</th>\n",
              "      <td>train/3/7463.png</td>\n",
              "      <td>0</td>\n",
              "    </tr>\n",
              "    <tr>\n",
              "      <th>1</th>\n",
              "      <td>train/3/21102.png</td>\n",
              "      <td>0</td>\n",
              "    </tr>\n",
              "    <tr>\n",
              "      <th>2</th>\n",
              "      <td>train/3/31559.png</td>\n",
              "      <td>0</td>\n",
              "    </tr>\n",
              "  </tbody>\n",
              "</table>\n",
              "</div>"
            ],
            "text/plain": [
              "                name  label\n",
              "0   train/3/7463.png      0\n",
              "1  train/3/21102.png      0\n",
              "2  train/3/31559.png      0"
            ]
          },
          "metadata": {
            "tags": []
          },
          "execution_count": 4
        }
      ]
    },
    {
      "cell_type": "code",
      "metadata": {
        "colab": {
          "base_uri": "https://localhost:8080/"
        },
        "id": "u4Sq_8h-FOfq",
        "outputId": "77df7bdd-b221-4091-b116-5bb0674b9618"
      },
      "source": [
        "path.ls()[0].ls()"
      ],
      "execution_count": null,
      "outputs": [
        {
          "output_type": "execute_result",
          "data": {
            "text/plain": [
              "(#2) [Path('/root/.fastai/data/mnist_sample/valid/7'),Path('/root/.fastai/data/mnist_sample/valid/3')]"
            ]
          },
          "metadata": {
            "tags": []
          },
          "execution_count": 6
        }
      ]
    },
    {
      "cell_type": "code",
      "metadata": {
        "id": "nGaEwIVlGH-M"
      },
      "source": [
        "def load_img(img_path):\r\n",
        "  img = Image.open(path/img_path)\r\n",
        "  img = tensor(img).view(28*28).float()/255\r\n",
        "  return img\r\n",
        "\r\n",
        "train_df = labels_df.loc[labels_df['name'].str.contains('train'), :]\r\n",
        "test_df = labels_df.loc[labels_df['name'].str.contains('valid'), :]\r\n",
        "\r\n",
        "train_dst = [(load_img(row['name']), tensor(row['label'])) for _, row in train_df.iterrows()]\r\n",
        "test_dst  = [(load_img(row['name']), tensor(row['label'])) for _, row in test_df.iterrows()]"
      ],
      "execution_count": null,
      "outputs": []
    },
    {
      "cell_type": "code",
      "metadata": {
        "colab": {
          "base_uri": "https://localhost:8080/"
        },
        "id": "cigB4oFQFOkC",
        "outputId": "765b4e49-3148-42d0-eb97-ac8db3e42f95"
      },
      "source": [
        "train_dst[0][0].shape, train_dst[0][1].shape, test_dst[0][0].shape, test_dst[0][1].shape"
      ],
      "execution_count": null,
      "outputs": [
        {
          "output_type": "execute_result",
          "data": {
            "text/plain": [
              "(torch.Size([784]), torch.Size([]), torch.Size([784]), torch.Size([]))"
            ]
          },
          "metadata": {
            "tags": []
          },
          "execution_count": 37
        }
      ]
    },
    {
      "cell_type": "code",
      "metadata": {
        "id": "0pfd3RFuJEBk"
      },
      "source": [
        "class BasicLearner:\r\n",
        "  __name__ = 'BasicLearner'\r\n",
        "  __repr__ = basic_repr('dls,model,opt_func,loss_func,metrics')\r\n",
        "\r\n",
        "  def __init__(self, dls, model, opt_func, loss_func, metrics):\r\n",
        "    store_attr('dls,model,opt_func,loss_func,metrics')\r\n",
        "\r\n",
        "  def fit(self, epochs=10, lr=1e-2):\r\n",
        "    opt = self.opt_func(self.model.parameters(), lr=lr)\r\n",
        "    for e in range(epochs):\r\n",
        "      self.model.train()\r\n",
        "      train_loss = []\r\n",
        "      for x,y in self.dls.train:\r\n",
        "        pred = self.model(x)\r\n",
        "        # print(pred.shape, y.shape)\r\n",
        "        loss = self.loss_func(pred, y)\r\n",
        "        train_loss.append(loss)\r\n",
        "        opt.zero_grad()\r\n",
        "        loss.backward()\r\n",
        "        opt.step()\r\n",
        "      train_loss = tensor(train_loss)\r\n",
        "\r\n",
        "      self.model.eval()\r\n",
        "      val_loss = []\r\n",
        "      val_metrics = []\r\n",
        "      for x,y in self.dls.valid:\r\n",
        "        pred = self.model(x)\r\n",
        "        loss = self.loss_func(pred, y)\r\n",
        "        val_loss.append(loss)\r\n",
        "        m = self.metrics(pred, y)\r\n",
        "        val_metrics.append(m)\r\n",
        "\r\n",
        "      val_loss = tensor(val_loss)\r\n",
        "      val_metrics = tensor(val_metrics)\r\n",
        "\r\n",
        "      msg = f\"Epoch {e}/{epochs}: \" \\\r\n",
        "        f\"Train loss {train_loss.mean():.4f} \" \\\r\n",
        "        f\"Valid loss {val_loss.mean():.4f} \" \\\r\n",
        "        f\"{self.metrics.__name__} {val_metrics.mean():.2f}\"\r\n",
        "      print(msg)"
      ],
      "execution_count": null,
      "outputs": []
    },
    {
      "cell_type": "code",
      "metadata": {
        "id": "pBXOF3Jxj1Sa"
      },
      "source": [
        "def mnist_loss(predictions, targets):\r\n",
        "    predictions = predictions.sigmoid()\r\n",
        "    return torch.where(targets==1, 1-predictions, predictions).mean()\r\n",
        "\r\n",
        "def batch_accuracy(predictions, targets):\r\n",
        "    predictions = predictions.sigmoid()\r\n",
        "    correct = (predictions > 0.5) == targets\r\n",
        "    return correct.float().mean()"
      ],
      "execution_count": null,
      "outputs": []
    },
    {
      "cell_type": "code",
      "metadata": {
        "id": "7d_Fq7G9z15l"
      },
      "source": [
        "class BasicOptim:\r\n",
        "  __name__ = \"BasicOptim\"\r\n",
        "  __repr__ = basic_repr('parameters,lr')\r\n",
        "  def __init__(self, parameters, lr): self.parameters, self.lr = list(parameters), lr\r\n",
        "  \r\n",
        "  def step(self, *args, **kwargs):\r\n",
        "    for p in self.parameters: p.data -= p.grad * self.lr\r\n",
        "  \r\n",
        "  def zero_grad(self, *args, **kwargs):\r\n",
        "    for p in self.parameters: p.grad = None"
      ],
      "execution_count": null,
      "outputs": []
    },
    {
      "cell_type": "code",
      "metadata": {
        "id": "9-JLTvEtjH0B"
      },
      "source": [
        "bs = 128\r\n",
        "train_dl = DataLoader(train_dst, batch_size=bs)\r\n",
        "test_dl = DataLoader(test_dst, batch_size=bs, shuffle=False)\r\n",
        "dls = DataLoaders(train_dl, test_dl)"
      ],
      "execution_count": null,
      "outputs": []
    },
    {
      "cell_type": "code",
      "metadata": {
        "id": "b9osp_v8jlvo"
      },
      "source": [
        "simple_net = nn.Sequential(\r\n",
        "    nn.Linear(28*28, 30),\r\n",
        "    nn.ReLU(),\r\n",
        "    nn.Linear(30, 1),\r\n",
        ")"
      ],
      "execution_count": null,
      "outputs": []
    },
    {
      "cell_type": "code",
      "metadata": {
        "colab": {
          "base_uri": "https://localhost:8080/"
        },
        "id": "wRpUVmtHJEI4",
        "outputId": "c46effdc-662f-43c5-f927-83a714aefee8"
      },
      "source": [
        "learn = BasicLearner(dls, simple_net, BasicOptim, mnist_loss, batch_accuracy)\r\n",
        "print(learn)"
      ],
      "execution_count": null,
      "outputs": [
        {
          "output_type": "stream",
          "text": [
            "BasicLearner(dls=<fastai.data.core.DataLoaders object at 0x7fb68a127c50>, model=Sequential(\n",
            "  (0): Linear(in_features=784, out_features=30, bias=True)\n",
            "  (1): ReLU()\n",
            "  (2): Linear(in_features=30, out_features=1, bias=True)\n",
            "), opt_func=<class '__main__.BasicOptim'>, loss_func=<function mnist_loss at 0x7fb68a07a5f0>, metrics=<function batch_accuracy at 0x7fb68a07a170>)\n"
          ],
          "name": "stdout"
        }
      ]
    },
    {
      "cell_type": "code",
      "metadata": {
        "id": "BrBBIpXZlsno"
      },
      "source": [
        "# help(torch.unsqueeze)"
      ],
      "execution_count": null,
      "outputs": []
    },
    {
      "cell_type": "code",
      "metadata": {
        "colab": {
          "base_uri": "https://localhost:8080/"
        },
        "id": "PoIcag8KkAs7",
        "outputId": "ee252073-b04c-49b1-cf19-8bd1598bdf8c"
      },
      "source": [
        "learn.fit(10)"
      ],
      "execution_count": null,
      "outputs": [
        {
          "output_type": "stream",
          "text": [
            "Epoch 0/10: Train loss 0.0530 Valid loss 0.0643 batch_accuracy 0.95\n",
            "Epoch 1/10: Train loss 0.0503 Valid loss 0.0617 batch_accuracy 0.96\n",
            "Epoch 2/10: Train loss 0.0480 Valid loss 0.0596 batch_accuracy 0.96\n",
            "Epoch 3/10: Train loss 0.0460 Valid loss 0.0578 batch_accuracy 0.96\n",
            "Epoch 4/10: Train loss 0.0444 Valid loss 0.0563 batch_accuracy 0.96\n",
            "Epoch 5/10: Train loss 0.0429 Valid loss 0.0550 batch_accuracy 0.96\n",
            "Epoch 6/10: Train loss 0.0416 Valid loss 0.0538 batch_accuracy 0.96\n",
            "Epoch 7/10: Train loss 0.0404 Valid loss 0.0528 batch_accuracy 0.96\n",
            "Epoch 8/10: Train loss 0.0394 Valid loss 0.0519 batch_accuracy 0.96\n",
            "Epoch 9/10: Train loss 0.0384 Valid loss 0.0510 batch_accuracy 0.96\n"
          ],
          "name": "stdout"
        }
      ]
    }
  ]
}